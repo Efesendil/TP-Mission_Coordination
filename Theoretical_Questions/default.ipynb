{
 "cells": [
  {
   "cell_type": "markdown",
   "metadata": {},
   "source": [
    "# TP1 Mission Coordination ROS-Gazebo | SENDIL EFE-M2SAAS"
   ]
  },
  {
   "cell_type": "markdown",
   "metadata": {},
   "source": [
    "## PART 1 and 2:"
   ]
  },
  {
   "cell_type": "markdown",
   "metadata": {},
   "source": [
    "#### Q1: In this new terminal (the last one), you should see some data. What do this text represent?"
   ]
  },
  {
   "cell_type": "code",
   "execution_count": null,
   "metadata": {},
   "outputs": [],
   "source": [
    "roslaunch evry_project_strategy agent.launch nbr_robot:=1"
   ]
  },
  {
   "cell_type": "markdown",
   "metadata": {},
   "source": [
    "###### This is the robot's distance to flag. But we didn't reach so we need to build a strategy to reach the flag. "
   ]
  },
  {
   "cell_type": "markdown",
   "metadata": {},
   "source": [
    "#### Q2: What is list command used for and what is the result?"
   ]
  },
  {
   "cell_type": "code",
   "execution_count": null,
   "metadata": {
    "scrolled": true
   },
   "outputs": [],
   "source": [
    "rostopic list"
   ]
  },
  {
   "cell_type": "markdown",
   "metadata": {},
   "source": [
    "###### This command is used to list current topics published or subscribed to the robots. \n",
    "###### At first we see gazebo topics as the simulation environment is still running.\n",
    "###### Also we have see cmd_vel, odom and sensor/sonar_front topics for each of 3 robots. cmd_vel is used to move our robot. Also we can get the robots pose(position+velocity) information from odom."
   ]
  },
  {
   "cell_type": "markdown",
   "metadata": {},
   "source": [
    "#### Q3:According to you, who are the publisher and the subscriber?"
   ]
  },
  {
   "cell_type": "markdown",
   "metadata": {},
   "source": [
    "rostopic info /robot_1/odom"
   ]
  },
  {
   "cell_type": "markdown",
   "metadata": {},
   "source": [
    "###### /gazebo is the publisher\n",
    "###### /agent_1 is the subscriber"
   ]
  },
  {
   "cell_type": "markdown",
   "metadata": {},
   "source": [
    "#### Q4: According to you, what type of messages are published on this topic?\n"
   ]
  },
  {
   "cell_type": "markdown",
   "metadata": {},
   "source": [
    "###### nav_msgs/Odometry messages are published\n",
    "###### We can use \"rostopic type /topic_name | rosmsg show\" to get more information about the messages that we are interested\n",
    "#### For example :"
   ]
  },
  {
   "cell_type": "code",
   "execution_count": null,
   "metadata": {},
   "outputs": [],
   "source": [
    "rostopic type /robot_1/odom | rosmsg show"
   ]
  },
  {
   "cell_type": "markdown",
   "metadata": {},
   "source": [
    "###### Gives us more information about geometry_msgs/Pose and geometry_msgs/Twist"
   ]
  },
  {
   "cell_type": "markdown",
   "metadata": {},
   "source": [
    "#### Q5: What is echo command used for and what is the result? "
   ]
  },
  {
   "cell_type": "markdown",
   "metadata": {},
   "source": [
    "rostopic echo /robot_1/odom "
   ]
  },
  {
   "cell_type": "markdown",
   "metadata": {},
   "source": [
    "###### This command used to get pose+twist information of the robot in each step. pose is robot's position and orientation, twist is robot's linear and angular velocity."
   ]
  },
  {
   "cell_type": "markdown",
   "metadata": {},
   "source": [
    "## PART 3 : Move on robot"
   ]
  },
  {
   "cell_type": "markdown",
   "metadata": {},
   "source": [
    "#### Q6 Q7 and Q8 : Simple approach to go the goal and the timing strategy to avoid robots collision"
   ]
  },
  {
   "cell_type": "code",
   "execution_count": null,
   "metadata": {},
   "outputs": [],
   "source": [
    "def run_demo():\n",
    "    \"\"\"Main loop\"\"\"\n",
    "    robot_name = rospy.get_param(\"~robot_name\")\n",
    "    robot = Robot(robot_name)\n",
    "    print(f\"Robot : {robot_name} is starting..\")\n",
    "\n",
    "    # Timing\n",
    "    rospy.sleep(5 + int(robot_name[-1]))\n",
    "    while not rospy.is_shutdown():\n",
    "        # Strategy\n",
    "        Kp = 0.5\n",
    "        distance = float(robot.getDistanceToFlag())\n",
    "        print(f\"{robot_name} distance to flag = \", distance)\n",
    "\n",
    "        # Write here your strategy..\n",
    "        velocity = Kp*distance\n",
    "        angle = 0\n",
    "        if(distance < 1):\n",
    "            velocity = 0\n",
    "        # Finishing by publishing the desired speed.\n",
    "        # DO NOT TOUCH.\n",
    "        robot.set_speed_angle(velocity, angle)\n",
    "        rospy.sleep(0.5)"
   ]
  },
  {
   "cell_type": "markdown",
   "metadata": {},
   "source": [
    "###### As I defined a P gain, the velocity is changing regarding to the distance from the flag, then the robot slows down when it gets closer to the goal, and if the distance is less than 1, I set the velocity to 0"
   ]
  },
  {
   "cell_type": "markdown",
   "metadata": {},
   "source": [
    "###### By runing :"
   ]
  },
  {
   "cell_type": "code",
   "execution_count": null,
   "metadata": {},
   "outputs": [],
   "source": [
    "roslaunch evry_project_strategy agent.launch nbr_robot:=3"
   ]
  },
  {
   "cell_type": "markdown",
   "metadata": {},
   "source": [
    "###### All the robots will start to move respected to their delay"
   ]
  }
 ],
 "metadata": {
  "kernelspec": {
   "display_name": "Python 2",
   "language": "python",
   "name": "python2"
  },
  "language_info": {
   "codemirror_mode": {
    "name": "ipython",
    "version": 2
   },
   "file_extension": ".py",
   "mimetype": "text/x-python",
   "name": "python",
   "nbconvert_exporter": "python",
   "pygments_lexer": "ipython2",
   "version": "2.7.16"
  }
 },
 "nbformat": 4,
 "nbformat_minor": 1
}
